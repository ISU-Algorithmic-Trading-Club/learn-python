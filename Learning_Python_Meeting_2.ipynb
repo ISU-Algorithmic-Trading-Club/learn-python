{
  "nbformat": 4,
  "nbformat_minor": 0,
  "metadata": {
    "colab": {
      "provenance": []
    },
    "kernelspec": {
      "name": "python3",
      "display_name": "Python 3"
    },
    "language_info": {
      "name": "python"
    }
  },
  "cells": [
    {
      "cell_type": "code",
      "execution_count": null,
      "metadata": {
        "id": "vVAIjl8U87wv"
      },
      "outputs": [],
      "source": [
        "fruits = [\"apple\", \"banana\", \"cherry\"]\n",
        "for fruit in fruits:\n",
        "    print(\"I like\", fruit)"
      ]
    },
    {
      "cell_type": "code",
      "source": [
        "colors = [\"red\", \"green\", \"blue\"]\n",
        "for idx, color in enumerate(colors):\n",
        "    print(f\"Color {idx} is {color}\")"
      ],
      "metadata": {
        "id": "lkeTc5xe-2N5"
      },
      "execution_count": null,
      "outputs": []
    },
    {
      "cell_type": "code",
      "source": [
        "matrix = [\n",
        "    [1, 2, 3],\n",
        "    [4, 5, 6],\n",
        "    [7, 8, 9]\n",
        "]\n",
        "for row in matrix:\n",
        "    for value in row:\n",
        "        print(value, end=\" \")\n",
        "    print()"
      ],
      "metadata": {
        "id": "Wfrll1SM-3c6"
      },
      "execution_count": null,
      "outputs": []
    },
    {
      "cell_type": "code",
      "source": [
        "squares = []\n",
        "for x in range(1, 11):\n",
        "    squares.append(x * x)\n",
        "print(\"Squares:\", squares)"
      ],
      "metadata": {
        "id": "zKKqVWeI_DnZ"
      },
      "execution_count": null,
      "outputs": []
    },
    {
      "cell_type": "code",
      "source": [
        "count = 0\n",
        "while count < 5:\n",
        "    print(\"Count is\", count)\n",
        "    count += 1"
      ],
      "metadata": {
        "id": "fhli4goH_EiC"
      },
      "execution_count": null,
      "outputs": []
    },
    {
      "cell_type": "code",
      "source": [
        "n = 0\n",
        "while True:\n",
        "    print(\"n is\", n)\n",
        "    n += 1\n",
        "    if n >= 3:\n",
        "        print(\"Reached 3, breaking out.\")\n",
        "        break"
      ],
      "metadata": {
        "id": "g98BOzSc_HQB"
      },
      "execution_count": null,
      "outputs": []
    },
    {
      "cell_type": "code",
      "source": [
        "n = 0\n",
        "while n < 6:\n",
        "    n += 1\n",
        "    if n % 2 == 0:\n",
        "        continue\n",
        "    print(\"Odd number:\", n)"
      ],
      "metadata": {
        "id": "X960hlZw_JDG"
      },
      "execution_count": null,
      "outputs": []
    },
    {
      "cell_type": "code",
      "source": [
        "number = None\n",
        "while number != 5:\n",
        "    number = int(input(\"Guess a number between 1 and 10: \"))\n",
        "    if number < 5:\n",
        "        print(\"Too low!\")\n",
        "    elif number > 5:\n",
        "        print(\"Too high!\")\n",
        "    else:\n",
        "        print(\"Correct!\")"
      ],
      "metadata": {
        "id": "rLT5m-Jc_MS4"
      },
      "execution_count": null,
      "outputs": []
    },
    {
      "cell_type": "code",
      "source": [
        "nums = [10, 20, 30, 40, 50]\n",
        "print(\"First:\", nums[0])\n",
        "print(\"Slice (1:4):\", nums[1:4])\n",
        "print(\"Last:\", nums[-1])"
      ],
      "metadata": {
        "id": "fbwwg_8o_PGC"
      },
      "execution_count": null,
      "outputs": []
    },
    {
      "cell_type": "code",
      "source": [
        "nums[2] = 35\n",
        "print(\"Modified:\", nums)"
      ],
      "metadata": {
        "id": "pVVGB0gV_RDJ"
      },
      "execution_count": null,
      "outputs": []
    },
    {
      "cell_type": "code",
      "source": [
        "nums.append(60)\n",
        "print(\"After append:\", nums)\n",
        "nums.insert(1, 15)\n",
        "print(\"After insert:\", nums)\n",
        "nums.remove(40)\n",
        "print(\"After remove 40:\", nums)"
      ],
      "metadata": {
        "id": "dB02eoyJ_SYF"
      },
      "execution_count": null,
      "outputs": []
    },
    {
      "cell_type": "code",
      "source": [
        "for num in nums:\n",
        "    print(num * 2)"
      ],
      "metadata": {
        "id": "I7dfkiEP_U0V"
      },
      "execution_count": null,
      "outputs": []
    },
    {
      "cell_type": "code",
      "source": [
        "import numpy as np\n",
        "\n",
        "arr = np.array([1, 2, 3, 4, 5])\n",
        "print(\"Array:\", arr)\n",
        "print(\"Add 10:\", arr + 10)\n",
        "print(\"Multiply:\", arr * 2)\n",
        "print(\"Elementwise square:\", arr ** 2)\n",
        "print(\"Mean:\", arr.mean())"
      ],
      "metadata": {
        "id": "KkoFrZDZ_bZ8"
      },
      "execution_count": null,
      "outputs": []
    },
    {
      "cell_type": "code",
      "source": [
        "a = 15\n",
        "b = 4\n",
        "\n",
        "print(\"Addition:\", a + b)         # 19\n",
        "print(\"Subtraction:\", a - b)      # 11\n",
        "print(\"Multiplication:\", a * b)   # 60\n",
        "print(\"Division (float):\", a / b)  # 3.75\n",
        "print(\"Integer Division:\", a // b) # 3\n",
        "print(\"Remainder (mod):\", a % b)   # 3\n",
        "print(\"Exponentiation:\", a ** b)   # 15^4 = 50625"
      ],
      "metadata": {
        "id": "h0AT-S1h_dDM"
      },
      "execution_count": null,
      "outputs": []
    },
    {
      "cell_type": "code",
      "source": [
        "res = a + b * 2\n",
        "print(\"a + b * 2 →\", res)"
      ],
      "metadata": {
        "id": "0OndTgMF_iFZ"
      },
      "execution_count": null,
      "outputs": []
    },
    {
      "cell_type": "code",
      "source": [
        "res2 = (a + b) * 2\n",
        "print(\"(a + b) * 2 →\", res2)"
      ],
      "metadata": {
        "id": "4hNWflQs_kSV"
      },
      "execution_count": null,
      "outputs": []
    },
    {
      "cell_type": "code",
      "source": [
        "c = 2.5\n",
        "print(\"Float math:\", a * c)"
      ],
      "metadata": {
        "id": "S7g2A1Xb_moW"
      },
      "execution_count": null,
      "outputs": []
    },
    {
      "cell_type": "code",
      "source": [
        "import math\n",
        "print(\"Square root of a:\", math.sqrt(a))\n",
        "print(\"Logarithm (base e):\", math.log(a))\n",
        "print(\"Power via math:\", math.pow(b, 3))"
      ],
      "metadata": {
        "id": "aIcA6Zfp_ob-"
      },
      "execution_count": null,
      "outputs": []
    }
  ]
}